{
  "nbformat": 4,
  "nbformat_minor": 0,
  "metadata": {
    "colab": {
      "private_outputs": true,
      "provenance": [],
      "include_colab_link": true
    },
    "kernelspec": {
      "name": "python3",
      "display_name": "Python 3"
    },
    "language_info": {
      "name": "python"
    }
  },
  "cells": [
    {
      "cell_type": "markdown",
      "metadata": {
        "id": "view-in-github",
        "colab_type": "text"
      },
      "source": [
        "<a href=\"https://colab.research.google.com/github/gunwes16/Data-110/blob/main/Christopher_Leiby_Week6_HW.ipynb\" target=\"_parent\"><img src=\"https://colab.research.google.com/assets/colab-badge.svg\" alt=\"Open In Colab\"/></a>"
      ]
    },
    {
      "cell_type": "markdown",
      "source": [
        "# Setting Up Your Environment and\n",
        "1. Install any necessary packages"
      ],
      "metadata": {
        "id": "HEqhCWnovnkz"
      }
    },
    {
      "cell_type": "code",
      "execution_count": null,
      "metadata": {
        "id": "5XzeNRjcvSgi"
      },
      "outputs": [],
      "source": [
        "!pip install rpy2\n",
        "!pip install joypy"
      ]
    },
    {
      "cell_type": "markdown",
      "source": [
        "2. Import the required libraries:"
      ],
      "metadata": {
        "id": "sU4hVHMgvyqr"
      }
    },
    {
      "cell_type": "code",
      "source": [
        "import pandas as pd\n",
        "import seaborn as sns\n",
        "import matplotlib.pyplot as plt\n",
        "import numpy as np\n",
        "from joypy import joyplot\n"
      ],
      "metadata": {
        "id": "2is_tYkxv3fb"
      },
      "execution_count": null,
      "outputs": []
    },
    {
      "cell_type": "markdown",
      "source": [
        "Part 2: Load and Explore the Dataset\n",
        "\n",
        "1. Load the Palmer Penguins dataset:\n",
        "\n",
        "url = \"https://raw.githubusercontent.com/mwaskom/seaborn-data/master/penguins.csv\"\n"
      ],
      "metadata": {
        "id": "5Vs2RF4Rv7Ad"
      }
    },
    {
      "cell_type": "code",
      "source": [
        "penguins = pd.read_csv(\"https://raw.githubusercontent.com/mwaskom/seaborn-data/master/penguins.csv\")\n",
        "\n",
        "penguins.info()"
      ],
      "metadata": {
        "id": "6QCHSOn0wImo"
      },
      "execution_count": null,
      "outputs": []
    },
    {
      "cell_type": "markdown",
      "source": [
        "2. The dataset contains missing values. Handle them by removing rows with NaN values:"
      ],
      "metadata": {
        "id": "zlBc4A29wJQB"
      }
    },
    {
      "cell_type": "code",
      "source": [
        "penguins.head()"
      ],
      "metadata": {
        "id": "7tQEwznIwN92"
      },
      "execution_count": null,
      "outputs": []
    },
    {
      "cell_type": "code",
      "source": [
        "df_penguins = penguins.dropna()\n",
        "df_penguins.info()"
      ],
      "metadata": {
        "id": "ToQam6X8HwdB"
      },
      "execution_count": null,
      "outputs": []
    },
    {
      "cell_type": "markdown",
      "source": [
        "# Part 2: Data Visualization\n",
        "\n",
        "Task 1: Boxplot - Analyzing Body Mass by Species\n",
        "Create a boxplot to compare the distribution of penguin body mass across different species:"
      ],
      "metadata": {
        "id": "XxVuiEy8wOmO"
      }
    },
    {
      "cell_type": "markdown",
      "source": [],
      "metadata": {
        "id": "yB4k24eDv4H7"
      }
    },
    {
      "cell_type": "code",
      "source": [
        "sns.set_style('whitegrid')\n",
        "plt.figure(figsize=(10, 6))\n",
        "sns.boxplot(x='species', y='body_mass_g', data=df_penguins)\n",
        "plt.xlabel('Species', fontsize=11)\n",
        "plt.ylabel('Body Mass (g)', fontsize=11)\n",
        "plt.title('Body Mass of Penguins', fontsize=18)\n",
        "plt.grid(axis='y', visible=True, zorder=0)\n",
        "plt.xticks(fontsize=8)\n",
        "plt.yticks(fontsize=8)\n",
        "\n",
        "plt.show()"
      ],
      "metadata": {
        "id": "b7arlbJYwU35"
      },
      "execution_count": null,
      "outputs": []
    },
    {
      "cell_type": "markdown",
      "source": [
        "Interpretation: Based on the boxplot, answer the following:\n",
        "\n",
        "1. Which species has the largest median body mass?\n",
        "2. Which species has the widest range in body mass?\n",
        "3. Are there any outliers? If so, which species have them?"
      ],
      "metadata": {
        "id": "B2O0ZehfwV1w"
      }
    },
    {
      "cell_type": "markdown",
      "source": [
        "1. Gentoo\n",
        "2. Gentoo\n",
        "3. Chinstrap"
      ],
      "metadata": {
        "id": "SxCnIUPNwdYV"
      }
    },
    {
      "cell_type": "markdown",
      "source": [
        "Task 2: Violin Plot - Flipper Length Distribution by Species\n",
        "Create a violin plot to analyze the distribution of flipper length across species:"
      ],
      "metadata": {
        "id": "nUaripm8wf62"
      }
    },
    {
      "cell_type": "code",
      "source": [
        "plt.figure(figsize=(10, 6))\n",
        "sns.violinplot(x='species', y='flipper_length_mm', data=df_penguins, inner= 'quartile', linecolor='yellow', zorder=2)\n",
        "plt.xlabel('Species', fontsize=11)\n",
        "plt.ylabel('Flipper Length (mm)', fontsize=11)\n",
        "plt.title('Flipper Length Distribution by Penguin Species', fontsize=18)\n",
        "plt.grid(axis='y', visible=True, zorder=0)\n",
        "plt.xticks(fontsize=8)\n",
        "plt.yticks(fontsize=8)\n",
        "\n",
        "plt.show()\n"
      ],
      "metadata": {
        "id": "LE_rn94TwjCO"
      },
      "execution_count": null,
      "outputs": []
    },
    {
      "cell_type": "markdown",
      "source": [
        "Interpretation: Answer the following:\n",
        "\n",
        "1. Which species has the most symmetrical distribution?\n",
        "2. Which species has the widest spread of flipper lengths?\n",
        "3. How do the quartiles (white lines in the plot) compare for each species?"
      ],
      "metadata": {
        "id": "bIUx4SW1wmPj"
      }
    },
    {
      "cell_type": "code",
      "source": [
        "1. The species with the most symmetrical distribution are the Chinstrap and Adelie.\n",
        "2. The species with the widest spread of flipper lengths is Adelie.\n",
        "3. The median of Adelie is the lowest and around the first quartile of Chinstrap. The median for the Gentoo is the highest and near the upper limit of the Chinstrap flipper length. The Gentoo has smallest spread of flipper lengths.\n"
      ],
      "metadata": {
        "id": "OwXRuRh0wzTl"
      },
      "execution_count": null,
      "outputs": []
    },
    {
      "cell_type": "markdown",
      "source": [
        "**Task 3**: Ridgeline Plot - Distribution of Bill Length by Island\n",
        "Use a ridgeline plot to visualize the distribution of bill length across islands:"
      ],
      "metadata": {
        "id": "QDL0M3lww2lq"
      }
    },
    {
      "cell_type": "code",
      "source": [
        "\n",
        "data_island=df_penguins[['bill_length_mm', 'island']]\n",
        "\n",
        "fig, axes = joyplot(data_island,\n",
        "    by='island',\n",
        "    column='bill_length_mm',\n",
        "    figsize=(10, 4),\n",
        "    colormap=plt.cm.CMRmap,\n",
        "    ylabelsize=11,\n",
        "    xlabelsize=9,\n",
        "    title=\"Islands and the Study of Penguin Bill Length\",\n",
        "    alpha=0.6\n",
        ")"
      ],
      "metadata": {
        "id": "4dngtByNw4nc"
      },
      "execution_count": null,
      "outputs": []
    },
    {
      "cell_type": "markdown",
      "source": [
        "Interpretation: Answer the following:\n",
        "1. Which island has the smallest range of bill lengths?\n",
        "2. Which island has the most uniform distribution?\n",
        "3. What differences do you notice between the islands in terms of bill length?"
      ],
      "metadata": {
        "id": "9ANVWrZTxCfb"
      }
    },
    {
      "cell_type": "code",
      "source": [
        "1. The smallest range is the Torgersen Species.\n",
        "2. The most uniform distribution is the Dream Species.\n",
        "3. Torgersen is the lowest median bill length, while Briscoe is the highest. Torgersen has a lower bill length  and normal distribution. Therefore there may be one species on the other two islands that is not on Torgersen island.\n",
        ""
      ],
      "metadata": {
        "id": "GL6OUbLPxHjt"
      },
      "execution_count": null,
      "outputs": []
    },
    {
      "cell_type": "markdown",
      "source": [
        "upload your completed notebook (.ipynb) to Google Colab or GitHub.\n",
        "Submit the GitHub/Colab link in MS Teams under the assignment post."
      ],
      "metadata": {
        "id": "WclqVUSixJ1D"
      }
    }
  ]
}